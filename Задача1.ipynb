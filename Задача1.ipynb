{
 "cells": [
  {
   "cell_type": "code",
   "execution_count": 29,
   "metadata": {},
   "outputs": [
    {
     "name": "stdout",
     "output_type": "stream",
     "text": [
      "Waste a Moment\n",
      "New Salvation\n",
      "Staying' Alive\n",
      "Start Me Up\n"
     ]
    }
   ],
   "source": [
    "# Задача 1.1\n",
    "\n",
    "my_favorite_songs = 'Waste a Moment, Staying\\' Alive, A Sorta Fairytale, Start Me Up, New Salvation'\n",
    "\n",
    "# Первый трек\n",
    "first_song = my_favorite_songs.split(', ')[0]\n",
    "print(first_song)\n",
    "\n",
    "# Последний трек\n",
    "last_song = my_favorite_songs.split(', ')[-1]\n",
    "print(last_song)\n",
    "\n",
    "# Второй трек\n",
    "second_song = my_favorite_songs.split(', ')[1]\n",
    "print(second_song)\n",
    "\n",
    "# Второй трек с конца\n",
    "second_last_song = my_favorite_songs.split(', ')[-2]\n",
    "print(second_last_song)"
   ]
  },
  {
   "cell_type": "code",
   "execution_count": 43,
   "metadata": {},
   "outputs": [
    {
     "name": "stdout",
     "output_type": "stream",
     "text": [
      "Три песни звучат 12 минут.\n"
     ]
    }
   ],
   "source": [
    "# Задача 1.2\n",
    "# Пункт А\n",
    "import random\n",
    "\n",
    "my_favorite_songs = [\n",
    "    ['Waste a Moment', 3.03],\n",
    "    ['New Salvation', 4.02],\n",
    "    ['Staying\\' Alive', 3.40],\n",
    "    ['Out of Touch', 3.03],\n",
    "    ['A Sorta Fairytale', 5.28],\n",
    "    ['Easy', 4.15],\n",
    "    ['Beautiful Day', 4.04],\n",
    "    ['Nowhere to Run', 2.58],\n",
    "    ['In This World', 4.02],\n",
    "]\n",
    "\n",
    "random_songs = random.sample(my_favorite_songs, 3)\n",
    "total_time_songs = 0\n",
    "\n",
    "for song in random_songs:\n",
    "    total_time_songs += song[1]\n",
    "\n",
    "total_time = int(total_time_songs)\n",
    "\n",
    "print(f\"Три песни звучат {total_time} минут.\")"
   ]
  },
  {
   "cell_type": "code",
   "execution_count": 51,
   "metadata": {},
   "outputs": [
    {
     "name": "stdout",
     "output_type": "stream",
     "text": [
      "Три песни звучат 10.469999999999999 минут.\n"
     ]
    }
   ],
   "source": [
    "# Пункт B\n",
    "import random\n",
    "\n",
    "my_favorite_songs_dict = {\n",
    "    'Waste a Moment': 3.03,\n",
    "    'New Salvation': 4.02,\n",
    "    'Staying\\' Alive': 3.40,\n",
    "    'Out of Touch': 3.03,\n",
    "    'A Sorta Fairytale': 5.28,\n",
    "    'Easy': 4.15,\n",
    "    'Beautiful Day': 4.04,\n",
    "    'Nowhere to Run': 2.58,\n",
    "    'In This World': 4.02,\n",
    "}\n",
    "\n",
    "random_songs = random.sample(list(my_favorite_songs_dict.items()), 3)\n",
    "total_time_songs = 0\n",
    "\n",
    "for song in random_songs:\n",
    "    total_time_songs += song[1]\n",
    "total_time = int(total_time_songs)\n",
    "\n",
    "print(f\"Три песни звучат {total_time_songs} минут.\")"
   ]
  },
  {
   "cell_type": "code",
   "execution_count": null,
   "metadata": {},
   "outputs": [],
   "source": [
    "# Задача 1.3\n",
    "month_number = int(input(\"Введите номер месяца: \"))\n",
    "\n",
    "if month_number == 1:\n",
    "    month_name = \"январь\"\n",
    "    days = 31\n",
    "elif month_number == 2:\n",
    "    month_name = \"февраль\"\n",
    "    days = 28\n",
    "elif month_number == 3:\n",
    "    month_name = \"март\"\n",
    "    days = 31\n",
    "elif month_number == 4:\n",
    "    month_name = \"апрель\"\n",
    "    days = 30\n",
    "elif month_number == 5:\n",
    "    month_name = \"май\"\n",
    "    days = 31\n",
    "elif month_number == 6:\n",
    "    month_name = \"июнь\"\n",
    "    days = 30\n",
    "elif month_number == 7:\n",
    "    month_name = \"июль\"\n",
    "    days = 31\n",
    "elif month_number == 8:\n",
    "    month_name = \"август\"\n",
    "    days = 31\n",
    "elif month_number == 9:\n",
    "    month_name = \"сентябрь\"\n",
    "    days = 30\n",
    "elif month_number == 10:\n",
    "    month_name = \"октябрь\"\n",
    "    days = 31\n",
    "elif month_number == 11:\n",
    "    month_name = \"ноябрь\"\n",
    "    days = 30\n",
    "elif month_number == 12:\n",
    "    month_name = \"декабрь\"\n",
    "    days = 31\n",
    "else:\n",
    "    print(\"Такого месяца нет!\")\n",
    "    exit()\n",
    "\n",
    "print(f\"Вы ввели {month_name}. {days} дней.\")"
   ]
  },
  {
   "cell_type": "code",
   "execution_count": 4,
   "metadata": {},
   "outputs": [
    {
     "name": "stdout",
     "output_type": "stream",
     "text": [
      "Общее количество товаров на складе: 0\n"
     ]
    }
   ],
   "source": [
    "# Задача 1.4\n",
    "\n",
    "titles = {\n",
    "    'Кроссовки тип 3 (Adidas)': '100000110',\n",
    "    'Мячик тип 2 (Adidas)': '100000146',\n",
    "    'Кепка тип 1 (Adidas)': '100000149',\n",
    "    'Ремень тип 2 (Nike)': '100000194',\n",
    "    'Футболка тип 1 (Adidas)': '100000224',\n",
    "    'Шапка тип 5 (Puma)': '100000280',\n",
    "}\n",
    "\n",
    "store = {\n",
    "    '100000110': [{'quantity': 31, 'price': 1637}],\n",
    "    '100000146': [{'quantity': 4, 'price': 45}, {'quantity': 10, 'price': 48}],\n",
    "    '100000149': [{'quantity': 28, 'price': 279}, {'quantity': 32, 'price': 291}],\n",
    "    '100000194': [{'quantity': 8, 'price': 220}, {'quantity': 1, 'price': 170}],\n",
    "    '100000224': [{'quantity': 61, 'price': 438}, {'quantity': 23, 'price': 302}, {'quantity': 50, 'price': 412}],\n",
    "    '100000280': [{'quantity': 26, 'price': 175}]\n",
    "}\n",
    "\n",
    "total_quantity = 0\n",
    "\n",
    "for code in store:\n",
    "    if code in titles:\n",
    "        item_quantity = sum(item['quantity'] for item in store[code])\n",
    "        total_quantity += item_quantity\n",
    "\n",
    "print(f\"Общее количество товаров на складе: {total_quantity}\")"
   ]
  }
 ],
 "metadata": {
  "kernelspec": {
   "display_name": "Python 3",
   "language": "python",
   "name": "python3"
  },
  "language_info": {
   "codemirror_mode": {
    "name": "ipython",
    "version": 3
   },
   "file_extension": ".py",
   "mimetype": "text/x-python",
   "name": "python",
   "nbconvert_exporter": "python",
   "pygments_lexer": "ipython3",
   "version": "3.10.4"
  },
  "orig_nbformat": 4
 },
 "nbformat": 4,
 "nbformat_minor": 2
}
