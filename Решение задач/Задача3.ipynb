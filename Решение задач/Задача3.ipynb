{
 "cells": [
  {
   "cell_type": "code",
   "execution_count": 1,
   "metadata": {},
   "outputs": [
    {
     "name": "stdout",
     "output_type": "stream",
     "text": [
      "1\n",
      "5\n",
      "10\n",
      "10\n",
      "10\n"
     ]
    }
   ],
   "source": [
    "# Задача 3.1.\n",
    "# Создайте класс матрицы (или таблицы).\n",
    "# Требования к классу:\n",
    "#   - каждая колонка является числом от 1 до n (n любое число, которые вы поставите!)\n",
    "#   - в каждой ячейке содержится либо число, либо None\n",
    "#   - доступы следующие методы матрицы:\n",
    "#       * принимать новые значения, \n",
    "#       * заменять существующие значения, \n",
    "#       * выводить число строк и колонок.\n",
    "\n",
    "# Пример матрицы 10 на 10 из единиц:\n",
    "# [[1, 1, 1, 1, 1, 1, 1, 1, 1, 1],\n",
    "#  [1, 1, 1, 1, 1, 1, 1, 1, 1, 1],\n",
    "#  [1, 1, 1, 1, 1, 1, 1, 1, 1, 1],\n",
    "#  [1, 1, 1, 1, 1, 1, 1, 1, 1, 1],\n",
    "#  [1, 1, 1, 1, 1, 1, 1, 1, 1, 1],\n",
    "#  [1, 1, 1, 1, 1, 1, 1, 1, 1, 1],\n",
    "#  [1, 1, 1, 1, 1, 1, 1, 1, 1, 1],\n",
    "#  [1, 1, 1, 1, 1, 1, 1, 1, 1, 1],\n",
    "#  [1, 1, 1, 1, 1, 1, 1, 1, 1, 1],\n",
    "#  [1, 1, 1, 1, 1, 1, 1, 1, 1, 1]]\n",
    "\n",
    "class Matrix:\n",
    "    def __init__(self, rows, columns):\n",
    "        self.rows = rows\n",
    "        self.columns = columns\n",
    "        self.matrix = [[None] * columns for _ in range(rows)]\n",
    "\n",
    "    def set_value(self, row, column, value):\n",
    "        if 1 <= row <= self.rows and 1 <= column <= self.columns:\n",
    "            self.matrix[row - 1][column - 1] = value\n",
    "\n",
    "    def get_value(self, row, column):\n",
    "        if 1 <= row <= self.rows and 1 <= column <= self.columns:\n",
    "            return self.matrix[row - 1][column - 1]\n",
    "        return None\n",
    "\n",
    "    def get_num_rows(self):\n",
    "        return self.rows\n",
    "\n",
    "    def get_num_columns(self):\n",
    "        return self.columns\n",
    "        \n",
    "matrix = Matrix(10, 10)\n",
    "matrix.set_value(1, 1, 1)\n",
    "matrix.set_value(2, 3, 5)\n",
    "matrix.set_value(5, 5, 10)\n",
    "\n",
    "print(matrix.get_value(1, 1))  \n",
    "print(matrix.get_value(2, 3))  \n",
    "print(matrix.get_value(5, 5)) \n",
    "\n",
    "print(matrix.get_num_rows())  \n",
    "print(matrix.get_num_columns()) "
   ]
  }
 ],
 "metadata": {
  "kernelspec": {
   "display_name": "Python 3",
   "language": "python",
   "name": "python3"
  },
  "language_info": {
   "codemirror_mode": {
    "name": "ipython",
    "version": 3
   },
   "file_extension": ".py",
   "mimetype": "text/x-python",
   "name": "python",
   "nbconvert_exporter": "python",
   "pygments_lexer": "ipython3",
   "version": "3.10.4"
  },
  "orig_nbformat": 4
 },
 "nbformat": 4,
 "nbformat_minor": 2
}
