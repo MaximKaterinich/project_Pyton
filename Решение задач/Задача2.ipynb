{
 "cells": [
  {
   "cell_type": "code",
   "execution_count": 23,
   "metadata": {},
   "outputs": [
    {
     "name": "stdout",
     "output_type": "stream",
     "text": [
      "Минимальное значение = -134\n",
      "Максимальное значение = 566\n"
     ]
    }
   ],
   "source": [
    "#Задача2.1\n",
    "#Условие\n",
    "# * [4,6,2,1,9,63,-134,566]         -> max = 566, min = -134\n",
    "# * [-52, 56, 30, 29, -54, 0, -110] -> min = -110, max = 56\n",
    "# * [42, 54, 65, 87, 0]             -> min = 0, max = 87\n",
    "# * [5]                             -> min = 5, max = 5\n",
    "\n",
    "def minimum(arr):\n",
    "    if len(arr) == 0:\n",
    "        return None\n",
    "    min_num = arr[0]\n",
    "    for num in arr:\n",
    "        if num < min_num:\n",
    "            min_num = num\n",
    "    return min_num\n",
    "\n",
    "def maximum(arr):\n",
    "    if len(arr) == 0:\n",
    "        return None\n",
    "    max_num = arr[0]\n",
    "    for num in arr:\n",
    "        if num > max_num:\n",
    "            max_num = num\n",
    "    return max_num\n",
    "numbers = [4,6,2,1,9,63,-134,566]\n",
    "min_num = minimum(numbers)\n",
    "max_num = maximum(numbers)\n",
    "print(\"Минимальное значение =\",min_num)\n",
    "print(\"Максимальное значение =\",max_num)"
   ]
  },
  {
   "cell_type": "code",
   "execution_count": 33,
   "metadata": {},
   "outputs": [
    {
     "name": "stdout",
     "output_type": "stream",
     "text": [
      "Месяц относится к кварталу: 1\n"
     ]
    }
   ],
   "source": [
    "# Задача 2.2. \n",
    "# Условие: напишите функцию, которая возвращает номер квартал по номеру месяца\n",
    "# месяц 2 (февраль) является частью первого квартала; \n",
    "# месяц 6 (июнь) является частью второго квартала; \n",
    "# месяц 11 (ноябрь) является частью четвертого квартала.\n",
    "#Решение\n",
    "def quarter_of(month):\n",
    "    if month < 1 or month > 12:\n",
    "        return None\n",
    "    if month <= 3:\n",
    "        return 1\n",
    "    elif month <= 6:\n",
    "        return 2\n",
    "    elif month <= 9:\n",
    "        return 3\n",
    "    else:\n",
    "        return 4\n",
    "month = 2\n",
    "quarter = quarter_of(month)\n",
    "print(\"Месяц относится к кварталу:\",quarter)"
   ]
  },
  {
   "cell_type": "code",
   "execution_count": 38,
   "metadata": {},
   "outputs": [
    {
     "name": "stdout",
     "output_type": "stream",
     "text": [
      "None\n"
     ]
    }
   ],
   "source": [
    "# Задача 2.3.\n",
    "\n",
    "# Условие:напишите функцию, которая принимает цифры от 0 до 9 и возвращает значение прописью.\n",
    "# Например,\n",
    "# switch_it_up(1) -> 'One'\n",
    "# switch_it_up(3) -> 'Three'\n",
    "# switch_it_up(10000) -> None\n",
    "# Использовать условный оператор if-elif-else нельзя!\n",
    "def switch_it_up(number):\n",
    "    switcher = {\n",
    "        0: 'Ноль',\n",
    "        1: 'Единица',\n",
    "        2: 'Двойка',\n",
    "        3: 'Тройка',\n",
    "        4: 'Четвёрка',\n",
    "        5: 'Пятёрка',\n",
    "        6: 'Шестёрка',\n",
    "        7: 'Семёрка',\n",
    "        8: 'Восьмёрка',\n",
    "        9: 'Девятка'\n",
    "    }\n",
    "    return switcher.get(number, None)\n",
    "number = 10\n",
    "result = switch_it_up(number)\n",
    "print(result)"
   ]
  },
  {
   "cell_type": "code",
   "execution_count": 42,
   "metadata": {},
   "outputs": [
    {
     "name": "stdout",
     "output_type": "stream",
     "text": [
      "Oh, no\n",
      "!Hi\n"
     ]
    }
   ],
   "source": [
    "# Задача 2.4.\n",
    "\n",
    "# Пункт A.\n",
    "# Напишите функцию, которая удаляет все восклицательные знаки из заданной строк.\n",
    "# Например,\n",
    "# foo(\"Hi! Hello!\") -> \"Hi Hello\"\n",
    "# foo(\"\") -> \"\"\n",
    "# foo(\"Oh, no!!!\") -> \"Oh, no\"\n",
    "def remove_exclamation_marks(s):\n",
    "    return s.replace(\"!\", \"\")\n",
    "string = \"Oh, no!!!\"\n",
    "result = remove_exclamation_marks(string)\n",
    "print(result)\n",
    "\n",
    "# Пункт B.\n",
    "# Удалите восклицательный знак из конца строки. \n",
    "# remove(\"Hi!\") == \"Hi\"\n",
    "# remove(\"Hi!!!\") == \"Hi!!\"\n",
    "# remove(\"!Hi\") == \"!Hi\"\n",
    "def remove_last_em(s):\n",
    "    if s.endswith(\"!\"):\n",
    "        return s[:-1]\n",
    "    return s\n",
    "string = \"!Hi\"\n",
    "result = remove_last_em(string)\n",
    "print(result)"
   ]
  }
 ],
 "metadata": {
  "kernelspec": {
   "display_name": "Python 3",
   "language": "python",
   "name": "python3"
  },
  "language_info": {
   "codemirror_mode": {
    "name": "ipython",
    "version": 3
   },
   "file_extension": ".py",
   "mimetype": "text/x-python",
   "name": "python",
   "nbconvert_exporter": "python",
   "pygments_lexer": "ipython3",
   "version": "3.10.4"
  },
  "orig_nbformat": 4
 },
 "nbformat": 4,
 "nbformat_minor": 2
}
